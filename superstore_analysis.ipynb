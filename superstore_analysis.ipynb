{
  "nbformat": 4,
  "nbformat_minor": 0,
  "metadata": {
    "colab": {
      "provenance": [],
      "authorship_tag": "ABX9TyOwchv0IW7f1pw1O21n4UQ7",
      "include_colab_link": true
    },
    "kernelspec": {
      "name": "python3",
      "display_name": "Python 3"
    },
    "language_info": {
      "name": "python"
    }
  },
  "cells": [
    {
      "cell_type": "markdown",
      "metadata": {
        "id": "view-in-github",
        "colab_type": "text"
      },
      "source": [
        "<a href=\"https://colab.research.google.com/github/sachinkumar2305/sachinkumar/blob/main/superstore_analysis.ipynb\" target=\"_parent\"><img src=\"https://colab.research.google.com/assets/colab-badge.svg\" alt=\"Open In Colab\"/></a>"
      ]
    },
    {
      "cell_type": "code",
      "execution_count": null,
      "metadata": {
        "id": "vL4QSPIMJ4yw"
      },
      "outputs": [],
      "source": [
        "import pandas as pd\n",
        "import matplotlib.pyplot as plt\n",
        "import seaborn as sns"
      ]
    },
    {
      "cell_type": "code",
      "source": [
        "# Load the dataset\n",
        "df = pd.read_csv(\"SampleSuperstore.csv\")\n",
        "df.head()"
      ],
      "metadata": {
        "id": "4jzUSEqSJ7ie"
      },
      "execution_count": null,
      "outputs": []
    },
    {
      "cell_type": "code",
      "source": [
        "# Remove duplicates\n",
        "df.drop_duplicates(inplace=True)\n",
        "\n",
        "# Check for null values\n",
        "df.isnull().sum()"
      ],
      "metadata": {
        "id": "JOfu59MgKCoF"
      },
      "execution_count": null,
      "outputs": []
    },
    {
      "cell_type": "code",
      "source": [
        "plt.figure(figsize=(8,6))\n",
        "sns.heatmap(df.corr(numeric_only=True), annot=True, cmap='Blues')\n",
        "plt.title(\"Correlation Heatmap\")\n",
        "plt.show()"
      ],
      "metadata": {
        "id": "7drgyopwKEes"
      },
      "execution_count": null,
      "outputs": []
    },
    {
      "cell_type": "code",
      "source": [
        "segment_sales = df.groupby('Segment')['Sales'].sum()\n",
        "segment_sales.plot(kind='bar', title='Sales by Segment', color='skyblue')\n",
        "plt.ylabel('Total Sales')\n",
        "plt.show()"
      ],
      "metadata": {
        "id": "HWZsyoqfKGR1"
      },
      "execution_count": null,
      "outputs": []
    },
    {
      "cell_type": "code",
      "source": [
        "region_profit = df.groupby('Region')['Profit'].sum().sort_values()\n",
        "region_profit.plot(kind='barh', title='Profit by Region', color='orange')\n",
        "plt.xlabel('Total Profit')\n",
        "plt.show()"
      ],
      "metadata": {
        "id": "zjQKpeEsKHJG"
      },
      "execution_count": null,
      "outputs": []
    },
    {
      "cell_type": "code",
      "source": [
        "sns.boxplot(x='Category', y='Profit', data=df)\n",
        "plt.title('Profit by Category')\n",
        "plt.show()"
      ],
      "metadata": {
        "id": "lgjt6FRTKH8Y"
      },
      "execution_count": null,
      "outputs": []
    }
  ]
}